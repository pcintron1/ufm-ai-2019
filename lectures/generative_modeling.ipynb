{
 "cells": [
  {
   "cell_type": "markdown",
   "metadata": {},
   "source": [
    "# Modelado Generativo"
   ]
  },
  {
   "cell_type": "markdown",
   "metadata": {},
   "source": [
    "* Que quiere decir que un modelo sea generativo?\n",
    "* Como es diferente un modelo generativo a un modelo discriminativo?\n",
    "* Framework e ideas matematicas para estructurar nuestro enfoque a problemos con soluciones generativas."
   ]
  },
  {
   "cell_type": "markdown",
   "metadata": {},
   "source": [
    "## Que es modelado generativo?"
   ]
  },
  {
   "cell_type": "markdown",
   "metadata": {},
   "source": [
    "* Un modelo generativo puede ser definido de la siguiente forma:\n",
    "    > Un modelo generativo describe como un dataset es generado, en terminos de un modelo probabilistico. Muestrear de este modelo nos permite generar nueva data.\n",
    "\n",
    "1. Supongan que tenemos un dataset de imagenes de caballos. \n",
    "2. Queremos construir un modelo que genere nuevas imagenes de un caballo que nunca ha existido.\n",
    "3. pero que todavia se ve real porque el modelo ha aprendido las reglas generales que gobiernan la apariencia de un caballo.\n",
    "\n",
    "Este es el tipo de problemas que pueden ser solucionados con modelos generativos."
   ]
  },
  {
   "cell_type": "markdown",
   "metadata": {},
   "source": [
    "## Un proceso tipico de modelado generativo"
   ]
  },
  {
   "cell_type": "markdown",
   "metadata": {},
   "source": [
    "![Proceso Modelado Generativo](../assets/gen_modeling_process.png)"
   ]
  },
  {
   "cell_type": "markdown",
   "metadata": {},
   "source": [
    "* Cada observacion consiste en varias _features_ &mdash;para un problema de generacion de imagenes, las features usualmente son los valores de pixels individuales.\n",
    "* Nuestra meta es crear un modelo que pueda generar nuevos conjuntos de features que parezcan como si fueron creados usando las mismas reglas que la data original.\n",
    "* Conceptualmente, para generacion de imagenes esta es una tarea bastante dificil.\n",
    "\n",
    "* Un modelo generativo tambien debe ser _probabilistico_ en vez de _deterministico_. Si nuestro modelo es simplemente un calculo fijo, como tomar el valor promedio de cada pixel en el dataset, no es generativo. Porque?\n",
    "* El modelo debe incluir un elemento _estocastico_ (aleatorio) que influya las muestras individuales generadas por el modelo.\n",
    "\n",
    "* En otras palabras, nos podemos imaginar que existe una distribucion probabilistica desconocida que explica porque algunas imagenes son mas probables de aparecer en el dataset de entrenamiento y otras no.\n",
    "* Nuestro trabajo es construir un modelo que imite esta distribucion lo mas cerca posible y luego muestrear de el para generar nuevas, distintas observaciones que parezcan como las del dataset original"
   ]
  },
  {
   "cell_type": "markdown",
   "metadata": {},
   "source": [
    "## Modelado Generativo versus discriminativo"
   ]
  },
  {
   "cell_type": "markdown",
   "metadata": {},
   "source": [
    "* Basicamente la mayoria de ejemplos que han estudiado en machine learning.\n",
    "* Ejemplo: Tenemos un dataset de pinturas, algunas por Van Gogh y algunas por otros artistas. Con suficiente data etiquetada, podemos entrenar un modelo discriminativo para predecir si una pintura fue pintada por Van Gogh. \n",
    "* El modelo aprenderia que ciertos colores, figuras y texturas son mas propensas a indicar que una pintura es de Van Gogh.\n",
    "* Para pinturas con estos features, el modelo ajustaria su prediccion."
   ]
  },
  {
   "cell_type": "markdown",
   "metadata": {},
   "source": [
    "![Modelado Discriminativo](../assets/disc_modeling_process.png)"
   ]
  },
  {
   "cell_type": "markdown",
   "metadata": {},
   "source": [
    "* Una diferencia clave es que cuando hacemos modelado discriminativo, cada observacion en el training set tiene una etiqueta. \n",
    "* Por esta razon, el modelado discriminativo es sinonimo con _aprendizaje supervizado_, o aprender una funcion que mapea un input a un output usando un dataset etiquetado. \n",
    "* El modelado generativo usualmente se realiza con un dataset no etiquetado (es decir, una forma de _aprendizaje no supervisado_), aunque tambien puede ser aplicado a un dataset etiquetado para aprender a generar observaciones de cada clase. "
   ]
  },
  {
   "cell_type": "markdown",
   "metadata": {},
   "source": [
    "## Diferencias en notacion matematica"
   ]
  },
  {
   "cell_type": "markdown",
   "metadata": {},
   "source": [
    "_Modelado discriminativo_ estima $p(y|{ \\bf x })$&mdash;la probabilidad de un label $y$ dada una observacion ${\\bf x}$"
   ]
  },
  {
   "cell_type": "markdown",
   "metadata": {},
   "source": [
    "_Modelado generativo_ estima $p({\\bf x})$&mdash;la probabilidad de observar una observacion ${\\bf x}$"
   ]
  },
  {
   "cell_type": "markdown",
   "metadata": {},
   "source": [
    "* En otras palabras, el modelado discriminativo intenta estimar la probabilidad de que una observacion **x** pertenezca a la categoria _y_. \n",
    "* Al modelado generativo no le interesa etiquetar observaciones.\n",
    "* En vez, intenta estimar la probabilidad de ver la observacion."
   ]
  },
  {
   "cell_type": "markdown",
   "metadata": {},
   "source": [
    "* El punto clave es que aunque fueramos capazes de construir un modelo discriminativo perfecto para identificar pinturas de Van Gogh, igual no tendria idea de como crear pinturas que parezcan a las de Van Gogh.\n",
    "    * Solamente puede output probabilidades de imagenes existentes, ya que para esto fue entrenado.\n",
    "* En vez, tendriamos que entrenar un modelo generativo\n",
    "    * para poder output conjuntos de pixeles que tengan una alta probabilidad de pertenecer al dataset original."
   ]
  },
  {
   "cell_type": "markdown",
   "metadata": {},
   "source": [
    "## Avances en Machine Learning"
   ]
  },
  {
   "cell_type": "markdown",
   "metadata": {},
   "source": [
    "Para entender porque el modelado generativo se puede considerar la siguiente frontera para machine learning, hay que entender porque el modelado discriminativo ha sido la fuerza detras de la mayoria del progreso en la metodologia de machine learning en las ultimas dos decadas, en academia y en la industria."
   ]
  },
  {
   "cell_type": "markdown",
   "metadata": {},
   "source": [
    "**Desde un punto de vista academico**\n",
    "\n",
    "* El progreso en modelado discriminativo es mas facil de monitorear.\n",
    "    * Podemos medir metricas de desempenio en contra de ciertas tareas de clasificacion de alto perfil para determinar la mejor metodologia al momento.\n",
    "* Los modelos generativos son mas dificiles de evaluar, especialmente cuando la calidad del output es en gran parte subjetiva. \n",
    "* Por tanto, en anios recientes se ha puesto mucha enfasis en entrenar modelos discriminativos para alcanzar desempenios a nivel humano o super humano en una variedad de tareas de clasificacion de texto o imagenes."
   ]
  },
  {
   "cell_type": "markdown",
   "metadata": {},
   "source": [
    "**Caso:** \n",
    "* [ImageNet Large Scale Visual Recognition Challenge (ILSVRC)](https://machinelearningmastery.com/introduction-to-the-imagenet-large-scale-visual-recognition-challenge-ilsvrc/)"
   ]
  },
  {
   "cell_type": "markdown",
   "metadata": {},
   "source": [
    "Al igual que es mas facil publicar resultado medibles dentro de un contexto academico, los modelos discriminativos historicamente han sido mas faciles de aplicar a problemas de negocio que los modelos generativos. Por lo general, en un contexto de negocios, no nos interesa _como_ se genero la data, pero si queremos saber como un nuevo ejemplo debe ser clasificado o valorado. Por ejemplo:"
   ]
  },
  {
   "cell_type": "markdown",
   "metadata": {},
   "source": [
    "* Dada una imagen satelital, un oficial de defensa del gobierno solo estaria interesado en conocer la probabilidad de que contenga unidades enemigas, no la probabilidad de que esa imagen en particular aparezca.\n",
    "* Un jefe de servicio al cliente solo estaria interesado en conocer si el sentimiento de un email entrante es positivo o negativo y no tendria mucho uso para un modelo generativo que genere ejemplos de correos de clientes que no existen."
   ]
  },
  {
   "cell_type": "markdown",
   "metadata": {},
   "source": [
    "## El auge del modelado generativo"
   ]
  },
  {
   "cell_type": "markdown",
   "metadata": {},
   "source": [
    "En los ultimos 3 a 5 anios muchos de los avances mas interesantes en el campo han sido a traves de aplicaciones novedosas de deep learning a tareas de modelado generativo."
   ]
  },
  {
   "cell_type": "markdown",
   "metadata": {},
   "source": [
    "**Casos**\n",
    "* [StyleGAN de NVIDIA](https://arxiv.org/abs/1812.04948): crear imagenes hiper-realisticas de caras humanas\n",
    "* [GPT-2 de OpenAI](https://paperswithcode.com/paper/language-models-are-unsupervised-multitask): modelo de lenguaje.\n",
    "* [Usos maliciosos de AI](https://www.eff.org/files/2018/02/20/malicious_ai_report_final.pdf)"
   ]
  },
  {
   "cell_type": "markdown",
   "metadata": {},
   "source": [
    "* Hay claras aplicaciones positivas para industrias como disenio de juegos y cinematografia, y mejoras en generacion de musica automatica. \n",
    "* Aunque esto sea emocionante, tambien genera dilemas eticos al rededor de la proliferacion de contenido falso en el internet y significa que va a ser mas dificil confiar en lo que vemos y leemos a traves de canales publicos de comunicacion."
   ]
  },
  {
   "cell_type": "markdown",
   "metadata": {},
   "source": [
    "![Face Generation](../assets/face_generation.png)"
   ]
  },
  {
   "cell_type": "markdown",
   "metadata": {},
   "source": [
    "Adicional a los usos practicos de modelaje generativo, hay tres profundas razones por las cuales el modelado generativo se puede considerar como la llave para una forma mas sofisticada de inteligencia artificial."
   ]
  },
  {
   "cell_type": "markdown",
   "metadata": {},
   "source": [
    "1. Desde un punto de vista puramente teorico, no deberiamos estar satisfechos solamente siendo capaces de categorizar data. Deberiamos buscar un entendimiento mas completo de como se genero la data en primer lugar.\n",
    "    * Esto es un problema mas dificil de resolver dada la alta dimensionalidad del espacio de outputs factibles y el relativamente pequenio numero de creaciones que podriamos considerar que pertenecen al dataset.\n",
    "    * Sin embargo, como veremos, muchas de las mismas tecnicas que han impulsado el desarrollo en modelado discriminativo, como deep learning, se pueden usar para modelos generativos."
   ]
  },
  {
   "cell_type": "markdown",
   "metadata": {},
   "source": [
    "2. Es altamente probable que el modelado generativo sea central para impulsar desarrollos futuros en otros campos de machine learning, como reinforcement learning.\n",
    "    * RL: el estudio de enseniarle a agentes a optimizar una meta en un ambiente a traves de prueba y error"
   ]
  },
  {
   "cell_type": "markdown",
   "metadata": {},
   "source": [
    "**Caso**\n",
    "* [World Models](https://arxiv.org/abs/1803.10122)\n",
    "* [How Artificial Intelligence is Changing Science](https://www.quantamagazine.org/how-artificial-intelligence-is-changing-science-20190311/)\n",
    "* [Deoldify](https://github.com/jantic/DeOldify)"
   ]
  },
  {
   "cell_type": "markdown",
   "metadata": {},
   "source": [
    "3. Finalmente, si verdaderamente queremos decir que hemos construido una maquina que ha adquirido un tipo de inteligencia comparable con la de los humanos, los modelos generativos van a ser parte de la solucion.\n",
    "    * Teorias neurocientificas actuales sugieren que nuestra percepcion de la realidad no es un model discriminativo operando sobre nuestros inputs sensoriales para producir predicciones de lo que estamos experimentando.\n",
    "    * En vez, es un modelo generativo que ha sido entrenado desde nuestro nacimiento para producir simulaciones de nuestros entornos que precisamente igualan el futuro.\n",
    "    * Algunas teorias incluso sugieren que el output de este modelo generativo es lo que directamente percibimos como realidad."
   ]
  },
  {
   "cell_type": "code",
   "execution_count": null,
   "metadata": {},
   "outputs": [],
   "source": []
  }
 ],
 "metadata": {
  "kernelspec": {
   "display_name": "Python 3",
   "language": "python",
   "name": "python3"
  },
  "language_info": {
   "codemirror_mode": {
    "name": "ipython",
    "version": 3
   },
   "file_extension": ".py",
   "mimetype": "text/x-python",
   "name": "python",
   "nbconvert_exporter": "python",
   "pygments_lexer": "ipython3",
   "version": "3.7.4"
  }
 },
 "nbformat": 4,
 "nbformat_minor": 4
}
