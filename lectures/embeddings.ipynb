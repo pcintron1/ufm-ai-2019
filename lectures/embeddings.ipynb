{
 "cells": [
  {
   "cell_type": "markdown",
   "metadata": {},
   "source": [
    "## Word Embeddings"
   ]
  },
  {
   "cell_type": "markdown",
   "metadata": {},
   "source": [
    "* NLP trabaja con diferentes formas de data discreta.\n",
    "    * Palabras\n",
    "* Las palabras vienen de un conjunto finito (aka vocabulary)\n",
    "* Otros tipos de data discreta:\n",
    "    * caracteres\n",
    "    * POS tags\n",
    "    * Named entities\n",
    "    * items en un catalogo de productos"
   ]
  },
  {
   "cell_type": "markdown",
   "metadata": {},
   "source": [
    "* Representar tipos discretos como vectores ha sido parte del exito de NLP.\n",
    "* Cuando los tipos discretos son palabras la representacion vectorial se conoce como **word embedding**\n",
    "    * Count based -> TF-IDF\n",
    "* A nosotros nos interesan metodos basados en aprendizaje o prediccion.\n",
    "    * learning-based embeddings\n",
    "    * prediction-based embeddings\n",
    "    * Las representaciones se aprenden maximizando un objetivo para una tarea de aprendizaje especifica"
   ]
  },
  {
   "cell_type": "markdown",
   "metadata": {},
   "source": [
    "## Porque aprender embeddings?"
   ]
  },
  {
   "cell_type": "markdown",
   "metadata": {},
   "source": [
    "1. Reducir la dimensionalidad hace que sean computacionalmente mas eficientes.\n",
    "2. Las representaciones basadas en conteos resultand en vectores con alta dimensionalidad.\n",
    "    * codifica informacion similar de forma redundante\n",
    "    * No comparte informacion estadistica\n",
    "3. Usar inputs con alta dimensionalidad crea problemas para la optimizaion.\n",
    "    * Los modelos de deep learning tienen millones de parametros\n",
    "4. Representaciones aprendidas (o ajustadas) de data especifica para una tarea son optimas para esa tarea.\n",
    "    * Con enfoques que utilizan heuristicas, no esta claro si son relevantes para la tarea."
   ]
  },
  {
   "cell_type": "markdown",
   "metadata": {},
   "source": [
    "## Eficiencia de los Embeddings\n",
    "\n",
    "* Vector one-hot multiplicando un layer linear."
   ]
  },
  {
   "cell_type": "markdown",
   "metadata": {},
   "source": [
    "![Eficiencia de los embeddings](../assets/one_hot_linearl.png)"
   ]
  },
  {
   "cell_type": "markdown",
   "metadata": {},
   "source": [
    "* Como el vector on-hot esta lleno de ceros y un 1, el lugar del 1 va a actuar como un seleccionador en la multiplicacion de matrices.\n",
    "* Funciona pero es computacionalmente costoso e ineficiente.\n",
    "* El vector one-hot esta multiplicando cada numer en la matriz de pesos de la capa linear y calculando la suma para cada fila.\n",
    "* Basado en esto, podriamos ignorar la multiplicacion y en vez usar un entero como indice para jalar la fila seleccionada."
   ]
  },
  {
   "cell_type": "markdown",
   "metadata": {},
   "source": [
    "## Enfoques para aprender word embeddings"
   ]
  },
  {
   "cell_type": "markdown",
   "metadata": {},
   "source": [
    "* El objetivo es:\n",
    "    * entender que son los word embeddings\n",
    "    * como y donde son aplicables\n",
    "    * como usarlos de forma de forma segura en un model\n",
    "    * sus limitaciones\n",
    "    \n",
    "* En realidad, rara vez se encuentra uno en una situacion donde se necesite desarrollar un algoritmo para entrenar word embeddings.\n",
    "* Todos los metodos de word embeddings se entrenan solo con palabras (unlabeled data) de forma supervisada.\n",
    "    * Esto es posible creando tareas supervisadas donde la data esta implicitamente etiquetada.\n",
    "    * La representacion esta optimizada a resolver la tarea que creamos, caputrando propiedades estadisticas y linguisticas del corpus."
   ]
  },
  {
   "cell_type": "markdown",
   "metadata": {},
   "source": [
    "### Tareas auxiliares"
   ]
  },
  {
   "cell_type": "markdown",
   "metadata": {},
   "source": [
    "* Dada una secuencia de palabras, predecir la siguiente palabra. _language modeling_\n",
    "* Dada una secuencia de palabras antes y despues, predecir la palabra restante.\n",
    "* Data una palabra, predecir palabras que ocurren dentro de una ventana, independiente de la posicion."
   ]
  },
  {
   "cell_type": "markdown",
   "metadata": {},
   "source": [
    "**Ejemplos:**\n",
    "* GloVe\n",
    "* Continuous Bag-of-Words (CBOW)\n",
    "* Skipgrams"
   ]
  },
  {
   "cell_type": "markdown",
   "metadata": {},
   "source": [
    "## Usos practicos de Word Embeddings pre entrenadas"
   ]
  },
  {
   "cell_type": "markdown",
   "metadata": {},
   "source": [
    "* Corpus grandes - como todo Google News, Wikipedia, o [Common Crawl](commoncrawl.org)\n",
    "* Disponibles de forma gratuita para descargar y usar."
   ]
  },
  {
   "cell_type": "markdown",
   "metadata": {},
   "source": [
    "### Cargando embeddings\n",
    "\n",
    "* Normalmente vienen en el siguiente formato:\n",
    "    * cada linea empieza con la palabra que esta siendo _embedded_\n",
    "    * seguida por la secuencia de numeros (representacion vectorial)\n",
    "    * el largo de esta secuencia es la dimension de su representacion (aka _embedding dimension_)\n",
    "    * el _embedding dimension_ normalmente esta en los cientos\n",
    "    * el numero de tokens es usualmente el tamanio del vocabulario y en los millones."
   ]
  },
  {
   "cell_type": "code",
   "execution_count": 51,
   "metadata": {},
   "outputs": [],
   "source": [
    "import torch\n",
    "import torch.nn as nn\n",
    "from tqdm import tqdm\n",
    "from annoy import AnnoyIndex\n",
    "import numpy as np"
   ]
  },
  {
   "cell_type": "code",
   "execution_count": 52,
   "metadata": {},
   "outputs": [],
   "source": [
    "class PreTrainedEmbeddings(object):\n",
    "    \"\"\" A wrapper around pre-trained word vectors and their use \"\"\"\n",
    "    def __init__(self, word_to_index, word_vectors):\n",
    "        \"\"\"\n",
    "        Args:\n",
    "            word_to_index (dict): mapping from word to integers\n",
    "            word_vectors (list of numpy arrays)\n",
    "        \"\"\"\n",
    "        self.word_to_index = word_to_index\n",
    "        self.word_vectors = word_vectors\n",
    "        self.index_to_word = {v: k for k, v in self.word_to_index.items()}\n",
    "\n",
    "        self.index = AnnoyIndex(len(word_vectors[0]), metric='euclidean')\n",
    "        print(\"Building Index\")\n",
    "        for _, i in self.word_to_index.items():\n",
    "            self.index.add_item(i, self.word_vectors[i])\n",
    "        self.index.build(50)\n",
    "        print(\"Finished\")\n",
    "        \n",
    "    @classmethod\n",
    "    def from_embeddings_file(cls, embedding_file):\n",
    "        \"\"\"Instantiate from pre-trained vector file.\n",
    "        \n",
    "        Vector file should be of the format:\n",
    "            word0 x0_0 x0_1 x0_2 x0_3 ... x0_N\n",
    "            word1 x1_0 x1_1 x1_2 x1_3 ... x1_N\n",
    "        \n",
    "        Args:\n",
    "            embedding_file (str): location of the file\n",
    "        Returns: \n",
    "            instance of PretrainedEmbeddigns\n",
    "        \"\"\"\n",
    "        word_to_index = {}\n",
    "        word_vectors = []\n",
    "\n",
    "        with open(embedding_file) as fp:\n",
    "            for line in fp.readlines():\n",
    "                line = line.split(\" \")\n",
    "                word = line[0]\n",
    "                vec = np.array([float(x) for x in line[1:]])\n",
    "                \n",
    "                word_to_index[word] = len(word_to_index)\n",
    "                word_vectors.append(vec)\n",
    "                \n",
    "        return cls(word_to_index, word_vectors)\n",
    "    \n",
    "    def get_embedding(self, word):\n",
    "        \"\"\"\n",
    "        Args:\n",
    "            word (str)\n",
    "        Returns\n",
    "            an embedding (numpy.ndarray)\n",
    "        \"\"\"\n",
    "        return self.word_vectors[self.word_to_index[word]]\n",
    "\n",
    "    def get_closest_to_vector(self, vector, n=1):\n",
    "        \"\"\"Given a vector, return its n nearest neighbors\n",
    "        \n",
    "        Args:\n",
    "            vector (np.ndarray): should match the size of the vectors \n",
    "                in the Annoy index\n",
    "            n (int): the number of neighbors to return\n",
    "        Returns:\n",
    "            [str, str, ...]: words that are nearest to the given vector. \n",
    "                The words are not ordered by distance \n",
    "        \"\"\"\n",
    "        nn_indices = self.index.get_nns_by_vector(vector, n)\n",
    "        return [self.index_to_word[neighbor] for neighbor in nn_indices]\n",
    "    \n",
    "    def compute_and_print_analogy(self, word1, word2, word3):\n",
    "        \"\"\"Prints the solutions to analogies using word embeddings\n",
    "\n",
    "        Analogies are word1 is to word2 as word3 is to __\n",
    "        This method will print: word1 : word2 :: word3 : word4\n",
    "        \n",
    "        Args:\n",
    "            word1 (str)\n",
    "            word2 (str)\n",
    "            word3 (str)\n",
    "        \"\"\"\n",
    "        vec1 = self.get_embedding(word1)\n",
    "        vec2 = self.get_embedding(word2)\n",
    "        vec3 = self.get_embedding(word3)\n",
    "\n",
    "        # compute the fourth word's embedding\n",
    "        spatial_relationship = vec2 - vec1\n",
    "        vec4 = vec3 + spatial_relationship\n",
    "\n",
    "        closest_words = self.get_closest_to_vector(vec4, n=4)\n",
    "        existing_words = set([word1, word2, word3])\n",
    "        closest_words = [word for word in closest_words \n",
    "                             if word not in existing_words] \n",
    "\n",
    "        if len(closest_words) == 0:\n",
    "            print(\"Could not find nearest neighbors for the computed vector!\")\n",
    "            return\n",
    "        \n",
    "        for word4 in closest_words:\n",
    "            print(\"{} : {} :: {} : {}\".format(word1, word2, word3, word4))"
   ]
  },
  {
   "cell_type": "code",
   "execution_count": 53,
   "metadata": {},
   "outputs": [
    {
     "name": "stdout",
     "output_type": "stream",
     "text": [
      "Building Index\n",
      "Finished\n"
     ]
    }
   ],
   "source": [
    "embeddings = PreTrainedEmbeddings.from_embeddings_file('data/glove/glove.6B.100d.txt')"
   ]
  },
  {
   "cell_type": "markdown",
   "metadata": {},
   "source": [
    "## Relaciones entre word embeddings"
   ]
  },
  {
   "cell_type": "markdown",
   "metadata": {},
   "source": [
    "* El feature principal es que codifican relaciones semanticas y sintacticas que se manifiestan como regularidades en el uso de palabras.\n",
    "* Por ejemplo, hablamos de perros y gatos en formas similares.\n",
    "    * Como consecuencia sus embeddings estan mucho mas cercanos entre ellos que entre los embeddings de otros animales como elefantes.\n",
    "* Podemos explorar las relaciones semanticas codificadas en los embeddings de varias formas.\n",
    "    \n",
    "**Tarea de analogia**\n",
    "* Palabra1 : Palabra2 :: Palabra3 : ______\n",
    "1. Palabra2 - Palabra1\n",
    "    * Esta vector de diferencias codifica la relacion entre la Palabra1 y Palabra2\n",
    "2. Sumarle esa diferencia a la Palabra3\n",
    "    * Esto produce un vector cercano a la Palabra4 donde esta el espacio en blanco\n",
    "3. Buscar el nearest-neighbor en el indice con el vector resultante resuelve el problema de analogia."
   ]
  },
  {
   "cell_type": "code",
   "execution_count": 54,
   "metadata": {},
   "outputs": [
    {
     "name": "stdout",
     "output_type": "stream",
     "text": [
      "man : he :: woman : she\n",
      "man : he :: woman : never\n"
     ]
    }
   ],
   "source": [
    "embeddings.compute_and_print_analogy('man', 'he', 'woman')"
   ]
  },
  {
   "cell_type": "code",
   "execution_count": 55,
   "metadata": {},
   "outputs": [
    {
     "name": "stdout",
     "output_type": "stream",
     "text": [
      "fly : plane :: sail : ship\n",
      "fly : plane :: sail : vessel\n"
     ]
    }
   ],
   "source": [
    "embeddings.compute_and_print_analogy('fly', 'plane', 'sail')"
   ]
  },
  {
   "cell_type": "code",
   "execution_count": 56,
   "metadata": {},
   "outputs": [
    {
     "name": "stdout",
     "output_type": "stream",
     "text": [
      "cat : kitten :: dog : puppy\n",
      "cat : kitten :: dog : toddler\n",
      "cat : kitten :: dog : sleds\n"
     ]
    }
   ],
   "source": [
    "embeddings.compute_and_print_analogy('cat', 'kitten', 'dog')"
   ]
  },
  {
   "cell_type": "code",
   "execution_count": 42,
   "metadata": {},
   "outputs": [
    {
     "name": "stdout",
     "output_type": "stream",
     "text": [
      "blue : color :: dog : cat\n",
      "blue : color :: dog : animal\n",
      "blue : color :: dog : breed\n"
     ]
    }
   ],
   "source": [
    "embeddings.compute_and_print_analogy('blue', 'color', 'dog')"
   ]
  },
  {
   "cell_type": "code",
   "execution_count": 43,
   "metadata": {},
   "outputs": [
    {
     "name": "stdout",
     "output_type": "stream",
     "text": [
      "leg : legs :: hand : fingers\n",
      "leg : legs :: hand : ears\n",
      "leg : legs :: hand : stick\n"
     ]
    }
   ],
   "source": [
    "embeddings.compute_and_print_analogy('leg', 'legs', 'hand')"
   ]
  },
  {
   "cell_type": "code",
   "execution_count": 44,
   "metadata": {},
   "outputs": [
    {
     "name": "stdout",
     "output_type": "stream",
     "text": [
      "toe : foot :: finger : hand\n",
      "toe : foot :: finger : attached\n",
      "toe : foot :: finger : apart\n"
     ]
    }
   ],
   "source": [
    "embeddings.compute_and_print_analogy('toe', 'foot', 'finger')"
   ]
  },
  {
   "cell_type": "code",
   "execution_count": 45,
   "metadata": {},
   "outputs": [
    {
     "name": "stdout",
     "output_type": "stream",
     "text": [
      "talk : communicate :: read : instructions\n",
      "talk : communicate :: read : communicating\n",
      "talk : communicate :: read : transmit\n"
     ]
    }
   ],
   "source": [
    "embeddings.compute_and_print_analogy('talk', 'communicate', 'read')"
   ]
  },
  {
   "cell_type": "code",
   "execution_count": 46,
   "metadata": {},
   "outputs": [
    {
     "name": "stdout",
     "output_type": "stream",
     "text": [
      "blue : democrat :: red : republican\n",
      "blue : democrat :: red : congressman\n",
      "blue : democrat :: red : senator\n"
     ]
    }
   ],
   "source": [
    "embeddings.compute_and_print_analogy('blue', 'democrat', 'red')"
   ]
  },
  {
   "cell_type": "markdown",
   "metadata": {},
   "source": [
    "## Una de las analogias mas comunes codifica roles de genero\n",
    "\n",
    "\n",
    "**Diferenciar entre regularidades en el lenguaje y sesgos culturales es dificil.**\n",
    "\n",
    "Ver:\n",
    "[Ethics in NLP](ethicsinnlp.org)"
   ]
  },
  {
   "cell_type": "code",
   "execution_count": 47,
   "metadata": {},
   "outputs": [
    {
     "name": "stdout",
     "output_type": "stream",
     "text": [
      "man : king :: woman : queen\n",
      "man : king :: woman : monarch\n",
      "man : king :: woman : throne\n"
     ]
    }
   ],
   "source": [
    "embeddings.compute_and_print_analogy('man', 'king', 'woman')"
   ]
  },
  {
   "cell_type": "code",
   "execution_count": 48,
   "metadata": {},
   "outputs": [
    {
     "name": "stdout",
     "output_type": "stream",
     "text": [
      "man : doctor :: woman : nurse\n",
      "man : doctor :: woman : physician\n"
     ]
    }
   ],
   "source": [
    "embeddings.compute_and_print_analogy('man', 'doctor', 'woman')"
   ]
  },
  {
   "cell_type": "markdown",
   "metadata": {},
   "source": [
    "## No siempre son correctas"
   ]
  },
  {
   "cell_type": "code",
   "execution_count": 57,
   "metadata": {},
   "outputs": [
    {
     "name": "stdout",
     "output_type": "stream",
     "text": [
      "fast : fastest :: small : smallest\n",
      "fast : fastest :: small : largest\n",
      "fast : fastest :: small : among\n"
     ]
    }
   ],
   "source": [
    "embeddings.compute_and_print_analogy('fast', 'fastest', 'small')"
   ]
  },
  {
   "cell_type": "code",
   "execution_count": null,
   "metadata": {},
   "outputs": [],
   "source": []
  }
 ],
 "metadata": {
  "kernelspec": {
   "display_name": "Python 3",
   "language": "python",
   "name": "python3"
  },
  "language_info": {
   "codemirror_mode": {
    "name": "ipython",
    "version": 3
   },
   "file_extension": ".py",
   "mimetype": "text/x-python",
   "name": "python",
   "nbconvert_exporter": "python",
   "pygments_lexer": "ipython3",
   "version": "3.7.3"
  }
 },
 "nbformat": 4,
 "nbformat_minor": 2
}
